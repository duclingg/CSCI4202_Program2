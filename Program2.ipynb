{
 "cells": [
  {
   "cell_type": "markdown",
   "metadata": {},
   "source": [
    "# Program 2: Game Playing\n",
    "\n",
    "**Justin Hoang**  \n",
    "**CSCI 4202**  \n",
    "**10/20/24**  \n",
    "\n",
    "### Connect Four\n",
    "The standard game of connect four, where players have to connect their four pieces in a row. The four pieces can be arranged either vertically, horizontally, or diagonally.  \n",
    "\n",
    "### Description of Program\n",
    "This program plays against another AI program in the game of connect four.  \n",
    "I use alpha-beta pruning to determine the best move to play on the board.  \n",
    "\n",
    "The program can handle board sizes from 4x4 up to 16x16  "
   ]
  },
  {
   "cell_type": "code",
   "execution_count": null,
   "metadata": {},
   "outputs": [],
   "source": [
    "import sys\n",
    "import json\n",
    "import random"
   ]
  },
  {
   "cell_type": "code",
   "execution_count": null,
   "metadata": {},
   "outputs": [],
   "source": []
  }
 ],
 "metadata": {
  "language_info": {
   "name": "python"
  }
 },
 "nbformat": 4,
 "nbformat_minor": 2
}
