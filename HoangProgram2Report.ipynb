{
 "cells": [
  {
   "cell_type": "markdown",
   "metadata": {},
   "source": [
    "# Program 2: Game Playing\n",
    "\n",
    "**Justin Hoang**  \n",
    "**CSCI 4202**  \n",
    "**10/20/24**  \n",
    "\n",
    "### Connect Four\n",
    "The standard game of connect four, where players have to connect their four pieces in a row. The four pieces can be arranged either vertically, horizontally, or diagonally.  \n",
    "\n",
    "### Description of Program\n",
    "This program plays against another AI program in the game of connect four.  \n",
    "I use alpha-beta pruning to determine the best move to play on the board.  \n",
    "\n",
    "The program can handle board sizes from 4x4 up to 16x16  \n",
    "\n",
    "### IMPORTANT NOTE  \n",
    "This program will ***NOT*** run in the Jupyter Notebook. The notebook is just for the report, detailing my program and its results.  \n",
    "\n",
    "I provided the source code separately called `HoangProgram2.py`."
   ]
  },
  {
   "cell_type": "markdown",
   "metadata": {},
   "source": [
    "## Program Design:"
   ]
  },
  {
   "cell_type": "code",
   "execution_count": 1,
   "metadata": {},
   "outputs": [],
   "source": [
    "# import necessary packages\n",
    "import sys\n",
    "import json\n",
    "import random"
   ]
  },
  {
   "cell_type": "markdown",
   "metadata": {},
   "source": [
    "### Command Line Parsing\n",
    "These lines parse the command-line arguments given by the driver to set up the key game parameters.  \n",
    "\n",
    "player is expected to be either 1 or 2\n",
    "width is the expected width of the game board\n",
    "height is the expect height of the game board"
   ]
  },
  {
   "cell_type": "code",
   "execution_count": null,
   "metadata": {},
   "outputs": [],
   "source": [
    "player = int(sys.argv[2])\n",
    "width = int(sys.argv[4])\n",
    "height = int(sys.argv[6])"
   ]
  },
  {
   "cell_type": "code",
   "execution_count": null,
   "metadata": {},
   "outputs": [],
   "source": [
    "sys.stderr.write(f\"player = {player}\\n\")\n",
    "sys.stderr.write(f\" width = {width}\\n\")\n",
    "sys.stderr.write(f\"height = {height}\\n\")"
   ]
  },
  {
   "cell_type": "markdown",
   "metadata": {},
   "source": [
    "### Opponent Identification\n",
    "Determines the opponent's player number.  \n",
    "\n",
    "If player is 1, opponent will be 2  \n",
    "If player is 2, opponent will be 1"
   ]
  },
  {
   "cell_type": "code",
   "execution_count": null,
   "metadata": {},
   "outputs": [],
   "source": [
    "opponent = 3 - player"
   ]
  },
  {
   "cell_type": "markdown",
   "metadata": {},
   "source": [
    "### Valid Moves\n",
    "This function takes in a list, checking the top row of each column of the grid and returns a list of valid column indices that the player can make."
   ]
  },
  {
   "cell_type": "code",
   "execution_count": null,
   "metadata": {},
   "outputs": [],
   "source": [
    "def valid_moves(grid):\n",
    "    return [col for col in range(width) if grid[col][0] == 0]"
   ]
  },
  {
   "cell_type": "markdown",
   "metadata": {},
   "source": [
    "### Drop Piece\n",
    "This function \"simulates\" gravity by checking the board from bottom to top, returning the row where the piece will land."
   ]
  },
  {
   "cell_type": "code",
   "execution_count": null,
   "metadata": {},
   "outputs": [],
   "source": [
    "def drop_piece(grid, col, piece):\n",
    "    for row in range(height-1, -1, -1):\n",
    "        if grid[col][row] == 0:\n",
    "            return row\n",
    "    return -1"
   ]
  },
  {
   "cell_type": "markdown",
   "metadata": {},
   "source": [
    "### Check Winner\n",
    "This function checks only the last move made, checking for four pieces of the same player in row vertically, horizontally, or diagonally.  \n",
    "\n",
    "It will stop the game once a win is found."
   ]
  },
  {
   "cell_type": "code",
   "execution_count": null,
   "metadata": {},
   "outputs": [],
   "source": [
    "def check_winner(grid, col, row, piece):\n",
    "    # check horizontal\n",
    "    count = 0\n",
    "    for c in range(max(0, col-3), min(width, col+4)):\n",
    "        if grid[c][row] == piece:\n",
    "            count += 1\n",
    "            if count == 4:\n",
    "                return True\n",
    "        else:\n",
    "            count = 0\n",
    "    \n",
    "    # check vertical\n",
    "    if row <= height - 4:\n",
    "        if all(grid[col][row+i] == piece for i in range(4)):\n",
    "            return True\n",
    "    \n",
    "    # check diagonal (positive slope)\n",
    "    count = 0\n",
    "    for i in range(-3, 4):\n",
    "        if 0 <= col+i < width and 0 <= row+i < height:\n",
    "            if grid[col+i][row+i] == piece:\n",
    "                count += 1\n",
    "                if count == 4:\n",
    "                    return True\n",
    "            else:\n",
    "                count = 0\n",
    "    \n",
    "    # check diagonal (negative slope)\n",
    "    count = 0\n",
    "    for i in range(-3, 4):\n",
    "        if 0 <= col+i < width and 0 <= row-i < height:\n",
    "            if grid[col+i][row-i] == piece:\n",
    "                count += 1\n",
    "                if count == 4:\n",
    "                    return True\n",
    "            else:\n",
    "                count = 0\n",
    "    \n",
    "    return False\n"
   ]
  },
  {
   "cell_type": "markdown",
   "metadata": {},
   "source": [
    "### Evaluate Position\n",
    "This is a simple heuristic function that will favor the center position for control of the board.  \n",
    "\n",
    "It assigns higher scores to pieces closer to the center. "
   ]
  },
  {
   "cell_type": "code",
   "execution_count": null,
   "metadata": {},
   "outputs": [],
   "source": [
    "def evaluate_position(grid):\n",
    "    score = 0\n",
    "    for col in range(width):\n",
    "        for row in range(height):\n",
    "            if grid[col][row] == player:\n",
    "                score += col + 1  # prefer center columns\n",
    "            elif grid[col][row] == opponent:\n",
    "                score -= col + 1\n",
    "    return score"
   ]
  },
  {
   "cell_type": "markdown",
   "metadata": {},
   "source": [
    "### Alpha-Beta Pruning\n",
    "The function incorporates alpha-beta pruning, an optimized algorithm of min-max.  \n",
    "\n",
    "It is recursively called, calling itself over and over again until a winner is found.  \n",
    "\n",
    "It incorporates the early termination for winning moves (`check_winner` function), the `drop_piece` function, and the huerisitc (`evaluate_position`) to find the best move to play.  "
   ]
  },
  {
   "cell_type": "code",
   "execution_count": null,
   "metadata": {},
   "outputs": [],
   "source": [
    "def alpha_beta(grid, depth, alpha, beta, maximizing_player):\n",
    "    valid_moves_list = valid_moves(grid)\n",
    "    if depth == 0 or not valid_moves_list:\n",
    "        return evaluate_position(grid)\n",
    "    \n",
    "    if maximizing_player:\n",
    "        value = float('-inf')\n",
    "        for move in valid_moves_list:\n",
    "            row = drop_piece(grid, move, player)\n",
    "            grid[move][row] = player\n",
    "            if check_winner(grid, move, row, player):\n",
    "                grid[move][row] = 0\n",
    "                return float('inf')\n",
    "            value = max(value, alpha_beta(grid, depth - 1, alpha, beta, False))\n",
    "            grid[move][row] = 0\n",
    "            alpha = max(alpha, value)\n",
    "            if alpha >= beta:\n",
    "                break\n",
    "        return value\n",
    "    else:\n",
    "        value = float('inf')\n",
    "        for move in valid_moves_list:\n",
    "            row = drop_piece(grid, move, opponent)\n",
    "            grid[move][row] = opponent\n",
    "            if check_winner(grid, move, row, opponent):\n",
    "                grid[move][row] = 0\n",
    "                return float('-inf')\n",
    "            value = min(value, alpha_beta(grid, depth - 1, alpha, beta, True))\n",
    "            grid[move][row] = 0\n",
    "            beta = min(beta, value)\n",
    "            if beta <= alpha:\n",
    "                break\n",
    "        return value"
   ]
  },
  {
   "cell_type": "markdown",
   "metadata": {},
   "source": [
    "### Best Move\n",
    "This function evaluates all valid moves, using the alpha-beta pruning and keeps track of moves with **equal** best scores.  \n",
    "\n",
    "It will randomly select from best moves."
   ]
  },
  {
   "cell_type": "code",
   "execution_count": null,
   "metadata": {},
   "outputs": [],
   "source": [
    "def best_move(grid):\n",
    "    valid_moves_list = valid_moves(grid)\n",
    "    best_score = float('-inf')\n",
    "    best_moves = []\n",
    "    \n",
    "    for move in valid_moves_list:\n",
    "        row = drop_piece(grid, move, player)\n",
    "        grid[move][row] = player\n",
    "        \n",
    "        if check_winner(grid, move, row, player):\n",
    "            grid[move][row] = 0\n",
    "            return move\n",
    "        \n",
    "        score = alpha_beta(grid, 5, float('-inf'), float('inf'), False)\n",
    "        grid[move][row] = 0\n",
    "        \n",
    "        if score > best_score:\n",
    "            best_score = score\n",
    "            best_moves = [move]\n",
    "        elif score == best_score:\n",
    "            best_moves.append(move)\n",
    "    \n",
    "    return random.choice(best_moves)"
   ]
  },
  {
   "cell_type": "markdown",
   "metadata": {},
   "source": [
    "### Main Game Loop\n",
    "This loop reads the JSON input from the game driver, and outputs it back into JSON for the driver.  "
   ]
  },
  {
   "cell_type": "code",
   "execution_count": null,
   "metadata": {},
   "outputs": [],
   "source": [
    "for line in sys.stdin:\n",
    "    sys.stderr.write(line)\n",
    "    state = json.loads(line)\n",
    "    action = {\"move\": best_move(state['grid'])}\n",
    "    msg = json.dumps(action)\n",
    "    sys.stderr.write(msg + '\\n')\n",
    "    sys.stdout.write(msg + '\\n')\n",
    "    sys.stdout.flush()"
   ]
  },
  {
   "cell_type": "code",
   "execution_count": null,
   "metadata": {},
   "outputs": [],
   "source": [
    "sys.stdin.close()\n",
    "sys.stdout.close()\n",
    "sys.stderr.close()"
   ]
  }
 ],
 "metadata": {
  "kernelspec": {
   "display_name": "Python 3",
   "language": "python",
   "name": "python3"
  },
  "language_info": {
   "codemirror_mode": {
    "name": "ipython",
    "version": 3
   },
   "file_extension": ".py",
   "mimetype": "text/x-python",
   "name": "python",
   "nbconvert_exporter": "python",
   "pygments_lexer": "ipython3",
   "version": "3.11.5"
  }
 },
 "nbformat": 4,
 "nbformat_minor": 2
}
